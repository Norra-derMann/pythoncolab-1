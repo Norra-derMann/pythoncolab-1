{
  "nbformat": 4,
  "nbformat_minor": 0,
  "metadata": {
    "colab": {
      "name": "สำเนาของ Python for Fun 1.ipynb",
      "provenance": [],
      "collapsed_sections": [],
      "include_colab_link": true
    },
    "kernelspec": {
      "name": "python3",
      "display_name": "Python 3"
    },
    "language_info": {
      "name": "python"
    }
  },
  "cells": [
    {
      "cell_type": "markdown",
      "metadata": {
        "id": "view-in-github",
        "colab_type": "text"
      },
      "source": [
        "<a href=\"https://colab.research.google.com/github/Norra-derMann/pythoncolab-1/blob/main/%E0%B8%AA%E0%B8%B3%E0%B9%80%E0%B8%99%E0%B8%B2%E0%B8%82%E0%B8%AD%E0%B8%87_Python_for_Fun_1.ipynb\" target=\"_parent\"><img src=\"https://colab.research.google.com/assets/colab-badge.svg\" alt=\"Open In Colab\"/></a>"
      ]
    },
    {
      "cell_type": "markdown",
      "metadata": {
        "id": "G43vgFE5ffI8"
      },
      "source": [
        "# Variable"
      ]
    },
    {
      "cell_type": "code",
      "execution_count": null,
      "metadata": {
        "id": "O_Taxu2dffI_",
        "outputId": "a31de07f-e89a-4ece-e4c2-bd4c96d2b0bd"
      },
      "outputs": [
        {
          "name": "stdout",
          "output_type": "stream",
          "text": [
            "xxx\n"
          ]
        }
      ],
      "source": [
        "print(\"xxx\")"
      ]
    },
    {
      "cell_type": "code",
      "execution_count": 2,
      "metadata": {
        "id": "jBHQiEFWffJC",
        "outputId": "a1f721ce-e658-44dd-90cf-38a167bf8a26",
        "colab": {
          "base_uri": "https://localhost:8080/"
        }
      },
      "outputs": [
        {
          "output_type": "stream",
          "name": "stdout",
          "text": [
            "print(\"xxx\")\n",
            "print('xxx')\n"
          ]
        }
      ],
      "source": [
        "print('''print(\"xxx\")''')\n",
        "print(\"print('xxx')\")"
      ]
    },
    {
      "cell_type": "code",
      "execution_count": null,
      "metadata": {
        "id": "j3C03WoxffJE",
        "outputId": "3be19334-cd1e-4a4e-ca0f-ff5e26c211a8"
      },
      "outputs": [
        {
          "name": "stdout",
          "output_type": "stream",
          "text": [
            "xxx\n",
            "xxx\n",
            "xxx\n",
            "xxx\n",
            "xxx\n",
            "xxx\n"
          ]
        }
      ],
      "source": [
        "print(\"xxx\")\n",
        "print(\"xxx\")\n",
        "print(\"xxx\")\n",
        "\n",
        "print(\"xxx\\nxxx\\nxxx\")"
      ]
    },
    {
      "cell_type": "code",
      "execution_count": null,
      "metadata": {
        "id": "1akGfvaWffJF",
        "outputId": "a1e392ba-9077-4f2f-b617-2a760a105b98"
      },
      "outputs": [
        {
          "name": "stdout",
          "output_type": "stream",
          "text": [
            "xxxyyy\n",
            "xxx yyy\n"
          ]
        }
      ],
      "source": [
        "print(\"xxx\" + \"yyy\")\n",
        "print(\"xxx\" + \" \" + \"yyy\")"
      ]
    },
    {
      "cell_type": "code",
      "execution_count": null,
      "metadata": {
        "id": "WIt72Pj2ffJF",
        "outputId": "f15974c9-f683-4aee-e869-bc9f4e28c8cb"
      },
      "outputs": [
        {
          "name": "stdout",
          "output_type": "stream",
          "text": [
            "100\n"
          ]
        }
      ],
      "source": [
        "savings = 100\n",
        "\n",
        "print(savings)"
      ]
    },
    {
      "cell_type": "markdown",
      "metadata": {
        "id": "DTD7l8mfffJG"
      },
      "source": [
        "# Data Types"
      ]
    },
    {
      "cell_type": "markdown",
      "metadata": {
        "id": "DcZQ9ENRffJG"
      },
      "source": [
        "### String"
      ]
    },
    {
      "cell_type": "code",
      "execution_count": null,
      "metadata": {
        "id": "toJwqEd8ffJG",
        "outputId": "78b73a39-2385-4cc4-a679-aa138a85202e",
        "colab": {
          "base_uri": "https://localhost:8080/"
        }
      },
      "outputs": [
        {
          "output_type": "stream",
          "name": "stdout",
          "text": [
            "Hello\n"
          ]
        }
      ],
      "source": [
        "print(\"Hello\")"
      ]
    },
    {
      "cell_type": "code",
      "source": [
        "print(\"Hello\"[0])"
      ],
      "metadata": {
        "colab": {
          "base_uri": "https://localhost:8080/"
        },
        "id": "eClf-r2ahdtC",
        "outputId": "3ea2e04c-61bf-41f3-a80c-d7ab76280fb5"
      },
      "execution_count": null,
      "outputs": [
        {
          "output_type": "stream",
          "name": "stdout",
          "text": [
            "H\n"
          ]
        }
      ]
    },
    {
      "cell_type": "code",
      "execution_count": null,
      "metadata": {
        "id": "dtm0mWxmffJH",
        "outputId": "15e4965b-03e0-4c16-cd84-29090eaea0e0"
      },
      "outputs": [
        {
          "name": "stdout",
          "output_type": "stream",
          "text": [
            "123456\n"
          ]
        }
      ],
      "source": [
        "print(\"123\" + \"456\")"
      ]
    },
    {
      "cell_type": "markdown",
      "metadata": {
        "id": "0GG1sCIwffJH"
      },
      "source": [
        "### Interger"
      ]
    },
    {
      "cell_type": "code",
      "execution_count": null,
      "metadata": {
        "id": "Vu43glaHffJH",
        "outputId": "febe41c5-0ce2-4487-fb91-c2e82e031c08"
      },
      "outputs": [
        {
          "name": "stdout",
          "output_type": "stream",
          "text": [
            "579\n"
          ]
        }
      ],
      "source": [
        "print(123 + 456)"
      ]
    },
    {
      "cell_type": "markdown",
      "metadata": {
        "id": "054CofIoffJI"
      },
      "source": [
        "### Float"
      ]
    },
    {
      "cell_type": "code",
      "execution_count": null,
      "metadata": {
        "id": "qN4JqU-NffJJ",
        "outputId": "1a06ab5f-a17a-4e7b-f465-dc93e17958fd"
      },
      "outputs": [
        {
          "data": {
            "text/plain": [
              "3.14159"
            ]
          },
          "execution_count": 17,
          "metadata": {},
          "output_type": "execute_result"
        }
      ],
      "source": [
        "3.14159"
      ]
    },
    {
      "cell_type": "code",
      "execution_count": null,
      "metadata": {
        "id": "-1JtLH_2ffJL",
        "outputId": "088b7bf6-5d36-4540-b2b7-3230424706ab"
      },
      "outputs": [
        {
          "name": "stdout",
          "output_type": "stream",
          "text": [
            "10\n",
            "0\n",
            "15\n",
            "5.0\n",
            "16\n",
            "4\n",
            "194.87171000000012\n"
          ]
        }
      ],
      "source": [
        "# Addition and subtraction\n",
        "print(5 + 5)\n",
        "print(5 - 5)\n",
        "\n",
        "# Multiplication and division\n",
        "print(3 * 5)\n",
        "print(10 / 2)\n",
        "\n",
        "# Exponentiation\n",
        "print(4 ** 2)\n",
        "\n",
        "# Modulo\n",
        "print(18 % 7)\n",
        "\n",
        "# How much is your $100 worth after 7 years?\n",
        "print(100*(1.1**7))"
      ]
    },
    {
      "cell_type": "code",
      "source": [
        "# Create a variable savings\n",
        "savings = \n",
        "\n",
        "# Create a variable factor\n",
        "growth_multiplier = \n",
        "\n",
        "# Calculate result\n",
        "result = \n",
        "\n",
        "# Print out result\n",
        "print(result)"
      ],
      "metadata": {
        "id": "FFk25eOah2Rv"
      },
      "execution_count": null,
      "outputs": []
    },
    {
      "cell_type": "code",
      "execution_count": null,
      "metadata": {
        "id": "XMGRudTFffJM"
      },
      "outputs": [],
      "source": [
        "### PEMDAS\n",
        "# Parentheses ()\n",
        "# Exponents **\n",
        "# Multiplication *\n",
        "# Division /\n",
        "# Addition +\n",
        "# Subtraction -"
      ]
    },
    {
      "cell_type": "code",
      "execution_count": null,
      "metadata": {
        "id": "N-aqqsoZffJN",
        "outputId": "a6757587-3098-4778-9ccf-1bf6b32ef829"
      },
      "outputs": [
        {
          "name": "stdout",
          "output_type": "stream",
          "text": [
            "7.0\n"
          ]
        }
      ],
      "source": [
        "print(3 * 3 + 3 / 3 - 3)"
      ]
    },
    {
      "cell_type": "code",
      "execution_count": null,
      "metadata": {
        "id": "eIkewO3XffJO",
        "outputId": "057693f7-68ce-46df-a3ab-6df250321a7e"
      },
      "outputs": [
        {
          "name": "stdout",
          "output_type": "stream",
          "text": [
            "3.0\n"
          ]
        }
      ],
      "source": [
        "print(3 * (3 + 3) / 3 - 3)"
      ]
    },
    {
      "cell_type": "code",
      "execution_count": null,
      "metadata": {
        "id": "jCZeb7AGffJP",
        "outputId": "b47fcac0-0b79-4387-d92f-2e61a4db90e6"
      },
      "outputs": [
        {
          "name": "stdout",
          "output_type": "stream",
          "text": [
            "<class 'int'>\n"
          ]
        }
      ],
      "source": [
        "print(type(num_char))"
      ]
    },
    {
      "cell_type": "code",
      "execution_count": null,
      "metadata": {
        "id": "6RntmrF2ffJP",
        "outputId": "a5268004-d761-42a6-9580-e52375060719"
      },
      "outputs": [
        {
          "name": "stdout",
          "output_type": "stream",
          "text": [
            "<class 'int'>\n",
            "<class 'str'>\n"
          ]
        }
      ],
      "source": [
        "a = 123\n",
        "print(type(a))\n",
        "\n",
        "a = \"123\"\n",
        "print(type(a))"
      ]
    },
    {
      "cell_type": "code",
      "source": [
        "print(8/3)\n",
        "print(round(8/3))\n",
        "print(round(8/3, 2))"
      ],
      "metadata": {
        "colab": {
          "base_uri": "https://localhost:8080/"
        },
        "id": "2zhqBJPokKgn",
        "outputId": "41819f35-b930-428c-c536-4321397f87d2"
      },
      "execution_count": null,
      "outputs": [
        {
          "output_type": "stream",
          "name": "stdout",
          "text": [
            "2.6666666666666665\n",
            "3\n",
            "2.67\n"
          ]
        }
      ]
    },
    {
      "cell_type": "markdown",
      "metadata": {
        "id": "LSLnFmEXffJP"
      },
      "source": [
        "### Boolean"
      ]
    },
    {
      "cell_type": "code",
      "execution_count": null,
      "metadata": {
        "id": "_zSBe48hffJQ",
        "outputId": "b8daa0fc-c75d-4100-ca26-bb983faadae7"
      },
      "outputs": [
        {
          "data": {
            "text/plain": [
              "True"
            ]
          },
          "execution_count": 19,
          "metadata": {},
          "output_type": "execute_result"
        }
      ],
      "source": [
        "True"
      ]
    },
    {
      "cell_type": "code",
      "execution_count": null,
      "metadata": {
        "id": "5Uov9MyyffJQ",
        "outputId": "060f186a-6748-43a5-ac9a-903f9c273d89"
      },
      "outputs": [
        {
          "data": {
            "text/plain": [
              "False"
            ]
          },
          "execution_count": 20,
          "metadata": {},
          "output_type": "execute_result"
        }
      ],
      "source": [
        "False"
      ]
    },
    {
      "cell_type": "code",
      "execution_count": null,
      "metadata": {
        "id": "ghjmmJyTffJR"
      },
      "outputs": [],
      "source": [
        ""
      ]
    },
    {
      "cell_type": "code",
      "execution_count": null,
      "metadata": {
        "id": "McCqBNIWffJR",
        "outputId": "f1400eb0-7235-4508-a2ba-04d3f554316e"
      },
      "outputs": [
        {
          "name": "stdout",
          "output_type": "stream",
          "text": [
            "3\n"
          ]
        }
      ],
      "source": [
        "print(len(\"xxx\"))"
      ]
    },
    {
      "cell_type": "code",
      "source": [
        "print(len(12345))"
      ],
      "metadata": {
        "id": "90zUsm3Siml9"
      },
      "execution_count": null,
      "outputs": []
    },
    {
      "cell_type": "code",
      "execution_count": null,
      "metadata": {
        "id": "8ZbffQRLffJS"
      },
      "outputs": [],
      "source": [
        ""
      ]
    },
    {
      "cell_type": "code",
      "execution_count": null,
      "metadata": {
        "id": "ZfkWbhA8ffJT"
      },
      "outputs": [],
      "source": [
        "input(\"xxx\")"
      ]
    },
    {
      "cell_type": "code",
      "source": [
        "print(\"Hello \" + input(\"What is your name?\"))"
      ],
      "metadata": {
        "id": "bJ2x-1wtieex"
      },
      "execution_count": null,
      "outputs": []
    },
    {
      "cell_type": "code",
      "source": [
        "name = input(\"What is you name?\")\n",
        "print(name)"
      ],
      "metadata": {
        "id": "28AWCp97igBZ"
      },
      "execution_count": null,
      "outputs": []
    },
    {
      "cell_type": "code",
      "source": [
        "name = input(\"What is you name?\")\n",
        "lenght = len(name)\n",
        "print(lenght)"
      ],
      "metadata": {
        "id": "LkxyzZ4EigDx"
      },
      "execution_count": null,
      "outputs": []
    },
    {
      "cell_type": "code",
      "execution_count": null,
      "metadata": {
        "id": "FYEDmH8LffJU"
      },
      "outputs": [],
      "source": [
        "num_char = len(input(\"What is your name?\"))\n",
        "print(\"Your name has \" + num_char + \" characters.\")"
      ]
    },
    {
      "cell_type": "code",
      "execution_count": null,
      "metadata": {
        "id": "Da83MbiMffJV"
      },
      "outputs": [],
      "source": [
        "print(type(num_char))"
      ]
    },
    {
      "cell_type": "code",
      "source": [
        "num_char = len(input(\"What is your name?\"))\n",
        "new_num_char = str(num_char)\n",
        "print(\"Your name has \" + new_num_char + \" characters.\")"
      ],
      "metadata": {
        "id": "vQ9RkAADjBZw"
      },
      "execution_count": null,
      "outputs": []
    },
    {
      "cell_type": "code",
      "execution_count": null,
      "metadata": {
        "id": "giR3wOouffJV"
      },
      "outputs": [],
      "source": [
        ""
      ]
    },
    {
      "cell_type": "markdown",
      "metadata": {
        "id": "4t_PPghZffJW"
      },
      "source": [
        "# Excercise"
      ]
    },
    {
      "cell_type": "code",
      "source": [
        "two_digit_number = input(\"Number!\")\n",
        "print(type(two_digit_number))"
      ],
      "metadata": {
        "id": "k9CdtpdujHwA"
      },
      "execution_count": null,
      "outputs": []
    },
    {
      "cell_type": "code",
      "source": [
        "first_digit = two_digit_number[0]\n",
        "second_digit = two_digit_number[1]\n",
        "print(xxx)"
      ],
      "metadata": {
        "id": "KQOv5h_KjOVf"
      },
      "execution_count": null,
      "outputs": []
    },
    {
      "cell_type": "code",
      "execution_count": null,
      "metadata": {
        "id": "QuzDZ72nffJX"
      },
      "outputs": [],
      "source": [
        ""
      ]
    },
    {
      "cell_type": "markdown",
      "metadata": {
        "id": "rxjrElVUffJX"
      },
      "source": [
        "# BMI excercise"
      ]
    },
    {
      "cell_type": "code",
      "source": [
        "height = input(\"Your height (m):\")\n",
        "weight = input(\"Your weight (kg):\")"
      ],
      "metadata": {
        "id": "slaL4XosjwOo"
      },
      "execution_count": null,
      "outputs": []
    },
    {
      "cell_type": "code",
      "source": [
        "bmi = weight/height **2"
      ],
      "metadata": {
        "id": "7c5KJZl9jxlT"
      },
      "execution_count": null,
      "outputs": []
    },
    {
      "cell_type": "code",
      "source": [
        "bmi = int(weight) / float(height) **2\n",
        "print(bmi)"
      ],
      "metadata": {
        "id": "vhsEPV-2jxoH"
      },
      "execution_count": null,
      "outputs": []
    },
    {
      "cell_type": "code",
      "execution_count": null,
      "metadata": {
        "id": "ebW3pPF4ffJY"
      },
      "outputs": [],
      "source": [
        "bmi_int = int(bmi)\n",
        "print(bmi_int)"
      ]
    },
    {
      "cell_type": "code",
      "execution_count": null,
      "metadata": {
        "id": "vrWh7VZ-ffJZ"
      },
      "outputs": [],
      "source": [
        ""
      ]
    },
    {
      "cell_type": "markdown",
      "metadata": {
        "id": "3LPJ0lWRffJa"
      },
      "source": [
        "# f-String"
      ]
    },
    {
      "cell_type": "code",
      "source": [
        "print(f\"your score is {score}, your height is {height}, and your winning is {isWinning}\")"
      ],
      "metadata": {
        "id": "aMcmgWRIkQ-r"
      },
      "execution_count": null,
      "outputs": []
    },
    {
      "cell_type": "code",
      "source": [
        ""
      ],
      "metadata": {
        "id": "Ug6sxCp8kS2W"
      },
      "execution_count": null,
      "outputs": []
    },
    {
      "cell_type": "markdown",
      "metadata": {
        "id": "qoP99_tBffJb"
      },
      "source": [
        "# Excercise"
      ]
    },
    {
      "cell_type": "code",
      "execution_count": null,
      "metadata": {
        "id": "IFik4kZ0ffJb"
      },
      "outputs": [],
      "source": [
        "#Retirement Calculation\n",
        "age =input(\"What is your current age?\")\n",
        "age_as_int = \n",
        "\n",
        "years_remaining = 60-\n",
        "days_remaining = \n",
        "weeks_remaining = \n",
        "months_remaining = \n",
        "\n",
        "message = f\"You have {xxx} days, {xxx} weeks, and {xxx} months left.\"\n",
        "print(xxx)"
      ]
    },
    {
      "cell_type": "markdown",
      "metadata": {
        "id": "NDbERhI-ffJc"
      },
      "source": [
        "# Excercise"
      ]
    },
    {
      "cell_type": "code",
      "execution_count": null,
      "metadata": {
        "id": "0sUTUuUGffJc",
        "outputId": "28d4276c-78eb-4063-ee48-f8ca83505640"
      },
      "outputs": [
        {
          "name": "stdout",
          "output_type": "stream",
          "text": [
            "Welcome to the tip calculator!\n",
            "What was the total bill? $50\n",
            "How much tip?5\n",
            "How many people?9\n",
            "Each person should pay: $5.83\n"
          ]
        }
      ],
      "source": [
        "print(\"Welcome to the tip calculator!\")\n",
        "bill = xxx(xxx(\"What was the total bill? $\"))\n",
        "tip = xxx(xxx(\"How much tip?\"))\n",
        "people = xxx(xxx(\"How many people?\"))\n",
        "\n",
        "tip_as_percent = \n",
        "total_tip_amount = \n",
        "total_bill = \n",
        "bill_per_person = \n",
        "final_amount = round(bill_per_person, 2)\n",
        "final_amount = \"{:.2f}\".format(bill_per_person)\n",
        "print(f\"Each person should pay: ${final_amount}\")"
      ]
    },
    {
      "cell_type": "code",
      "execution_count": null,
      "metadata": {
        "id": "qaUcQcESffJd"
      },
      "outputs": [],
      "source": [
        ""
      ]
    },
    {
      "cell_type": "markdown",
      "metadata": {
        "id": "Ye7488ifffJd"
      },
      "source": [
        "# Condition If Else"
      ]
    },
    {
      "cell_type": "code",
      "execution_count": null,
      "metadata": {
        "id": "8gRANehAffJd"
      },
      "outputs": [],
      "source": [
        "if consition:\n",
        "    do this\n",
        "else:\n",
        "    do this"
      ]
    },
    {
      "cell_type": "code",
      "source": [
        "number = int(input(\"Number \"))\n",
        "\n",
        "if number % 2 == 0:\n",
        "    print(\"Even\")\n",
        "else:\n",
        "    print(\"Odd\")"
      ],
      "metadata": {
        "id": "5105h_ZIlsj4"
      },
      "execution_count": null,
      "outputs": []
    },
    {
      "cell_type": "code",
      "execution_count": null,
      "metadata": {
        "id": "Km-zbO-vffJl"
      },
      "outputs": [],
      "source": [
        "height = int(input(\"Height\"))\n",
        "\n",
        "if height >= 120:\n",
        "    print(\"You can play\")\n",
        "else:\n",
        "    print(\"You can not play\")"
      ]
    },
    {
      "cell_type": "code",
      "source": [
        "height = int(input(\"Height\"))\n",
        "\n",
        "if height >= 120:\n",
        "    print(\"You can play\")\n",
        "    age = int(input(\"Age\"))\n",
        "    if age < 12:\n",
        "        print(\"Please pay 5\")\n",
        "    elif age < 18:\n",
        "        print(\"Please pay 10\")\n",
        "    else:\n",
        "        print(\"Please pay 15\")\n",
        "else:\n",
        "    print(\"You can not play\")"
      ],
      "metadata": {
        "id": "ZALY0Kmjlxv_"
      },
      "execution_count": null,
      "outputs": []
    },
    {
      "cell_type": "code",
      "execution_count": null,
      "metadata": {
        "id": "Au6W3clbffJl"
      },
      "outputs": [],
      "source": [
        ""
      ]
    },
    {
      "cell_type": "markdown",
      "metadata": {
        "id": "X0G43rd3ffJm"
      },
      "source": [
        "# Excercise"
      ]
    },
    {
      "cell_type": "code",
      "source": [
        "# Size S = 15, M = 20, L = 25\n",
        "# Add Egg +10\n",
        "# Takeaway +5\n",
        "\n",
        "print(\"Welcome\")\n",
        "size = input(\"Size? S, M or L\")\n",
        "Egg = input(\"Add Egg? [Y/N]\")\n",
        "Extra = input(\"Extra? [Y/N]\")\n",
        "\n",
        "bill = 0\n",
        "if \n",
        "\n",
        "print(f\"Total bill is {bill}.\")"
      ],
      "metadata": {
        "id": "2_VfRBAEmytv"
      },
      "execution_count": null,
      "outputs": []
    },
    {
      "cell_type": "code",
      "execution_count": null,
      "metadata": {
        "id": "_uElF0dQffJn"
      },
      "outputs": [],
      "source": [
        ""
      ]
    },
    {
      "cell_type": "markdown",
      "metadata": {
        "id": "8jKXfw17ffJn"
      },
      "source": [
        "# List"
      ]
    },
    {
      "cell_type": "code",
      "execution_count": null,
      "metadata": {
        "id": "tmm9Ok9SffJn",
        "outputId": "2067af19-8e7d-4cbe-9e84-c8eeaa1ad742"
      },
      "outputs": [
        {
          "data": {
            "text/plain": [
              "'UK'"
            ]
          },
          "execution_count": 13,
          "metadata": {},
          "output_type": "execute_result"
        }
      ],
      "source": [
        "country = ['USA', 'Germany', 'UK']\n",
        "country[2]"
      ]
    },
    {
      "cell_type": "code",
      "execution_count": null,
      "metadata": {
        "id": "tI2bTWC7ffJn",
        "outputId": "5f5787a0-995d-4da4-8bf5-1b51da9b2d8f"
      },
      "outputs": [
        {
          "data": {
            "text/plain": [
              "['America', 'Germany', 'UK']"
            ]
          },
          "execution_count": 15,
          "metadata": {},
          "output_type": "execute_result"
        }
      ],
      "source": [
        "#Replace\n",
        "country[0] = \"America\"\n",
        "country"
      ]
    },
    {
      "cell_type": "code",
      "execution_count": null,
      "metadata": {
        "id": "KOWgE5tTffJn",
        "outputId": "1fc311e6-b39a-4e41-d64f-de03cb055b1d"
      },
      "outputs": [
        {
          "data": {
            "text/plain": [
              "['America', 'Germany', 'UK', 'Thailand']"
            ]
          },
          "execution_count": 16,
          "metadata": {},
          "output_type": "execute_result"
        }
      ],
      "source": [
        "country.append(\"Thailand\")\n",
        "country"
      ]
    },
    {
      "cell_type": "code",
      "execution_count": null,
      "metadata": {
        "id": "4JNpkCEVffJo",
        "outputId": "7a98ea6a-e23e-4e7b-e4b7-8361b343f018"
      },
      "outputs": [
        {
          "name": "stdout",
          "output_type": "stream",
          "text": [
            "[11.25, 18.0, 20.0, 10.75, 9.5]\n"
          ]
        }
      ],
      "source": [
        "hall = 11.25\n",
        "kit = 18.0\n",
        "liv = 20.0\n",
        "bed = 10.75\n",
        "bath = 9.50\n",
        "\n",
        "areas = [hall,kit,liv,bed,bath]\n",
        "\n",
        "print(areas)"
      ]
    },
    {
      "cell_type": "markdown",
      "metadata": {
        "id": "ilo64hMpffJo"
      },
      "source": [
        "### Create list with different types"
      ]
    },
    {
      "cell_type": "code",
      "execution_count": null,
      "metadata": {
        "id": "2_EH_MnPffJo",
        "outputId": "f5049185-615b-4141-bc4c-4049413b533a"
      },
      "outputs": [
        {
          "name": "stdout",
          "output_type": "stream",
          "text": [
            "['hallway', 11.25, 'kitchen', 18.0, 'living room', 20.0, 'bedroom', 10.75, 'bathroom', 9.5]\n"
          ]
        }
      ],
      "source": [
        "hall = 11.25\n",
        "kit = 18.0\n",
        "liv = 20.0\n",
        "bed = 10.75\n",
        "bath = 9.50\n",
        "\n",
        "areas = [\"hallway\",hall,\"kitchen\", kit, \"living room\", liv,\"bedroom\", bed, \"bathroom\", bath]\n",
        "\n",
        "print(areas)"
      ]
    },
    {
      "cell_type": "code",
      "execution_count": null,
      "metadata": {
        "id": "1KWuAag2ffJp",
        "outputId": "b236d675-0617-4f5f-b12f-234e2dd5c2db"
      },
      "outputs": [
        {
          "name": "stdout",
          "output_type": "stream",
          "text": [
            "kitchen\n",
            "['hallway', 11.25, 'kitchen', 18.0, 'living room', 20.0]\n",
            "['bedroom', 10.75, 'bathroom', 9.5]\n"
          ]
        }
      ],
      "source": [
        "areas = [\"hallway\", 11.25, \"kitchen\", 18.0, \"living room\", 20.0, \"bedroom\", 10.75, \"bathroom\", 9.50]\n",
        "\n",
        "kitchen = areas[2]\n",
        "print(kitchen)\n",
        "\n",
        "downstairs = areas[0:6]\n",
        "print(downstairs)\n",
        "\n",
        "upstairs = areas[6:10]\n",
        "print(upstairs)"
      ]
    },
    {
      "cell_type": "code",
      "execution_count": null,
      "metadata": {
        "id": "qvs3LpCwffJp"
      },
      "outputs": [],
      "source": [
        ""
      ]
    },
    {
      "cell_type": "markdown",
      "metadata": {
        "id": "pPJbIGGjffJq"
      },
      "source": [
        "# For Loop"
      ]
    },
    {
      "cell_type": "code",
      "execution_count": null,
      "metadata": {
        "id": "wgoHcRtVffJq",
        "outputId": "f2e8992e-5253-490f-8f8c-d0a4c11b6f84"
      },
      "outputs": [
        {
          "name": "stdout",
          "output_type": "stream",
          "text": [
            "USA\n",
            "USA good\n",
            "Germany\n",
            "Germany good\n",
            "UK\n",
            "UK good\n",
            "['USA', 'Germany', 'UK']\n"
          ]
        }
      ],
      "source": [
        "country = ['USA', 'Germany', 'UK']\n",
        "\n",
        "for ct in country:\n",
        "    print(ct)\n",
        "    print(ct + \" good\")\n",
        "print(country)"
      ]
    },
    {
      "cell_type": "markdown",
      "metadata": {
        "id": "NeAG1kiSffJq"
      },
      "source": [
        "# Range"
      ]
    },
    {
      "cell_type": "code",
      "execution_count": null,
      "metadata": {
        "id": "WHqLATsJffJr",
        "outputId": "d5bba61a-fde2-44c2-83d2-b2eef79c7e02"
      },
      "outputs": [
        {
          "name": "stdout",
          "output_type": "stream",
          "text": [
            "0\n",
            "1\n",
            "2\n",
            "3\n",
            "4\n"
          ]
        }
      ],
      "source": [
        "for n in range(0, 5):\n",
        "    print(n)"
      ]
    },
    {
      "cell_type": "code",
      "execution_count": null,
      "metadata": {
        "id": "xdmI5q9FffJr",
        "outputId": "e5fb68d6-37c9-42d4-e549-f138a52e658a"
      },
      "outputs": [
        {
          "name": "stdout",
          "output_type": "stream",
          "text": [
            "1\n",
            "3\n",
            "5\n",
            "7\n",
            "9\n"
          ]
        }
      ],
      "source": [
        "for number in range(1, 11, 2):\n",
        "    print(number)"
      ]
    },
    {
      "cell_type": "code",
      "execution_count": null,
      "metadata": {
        "id": "m_jsFZvTffJt"
      },
      "outputs": [],
      "source": [
        "#sum 1-100 \n",
        "total = 0\n",
        "for number in range(1, 101):\n",
        "    total += number\n",
        "print(total)"
      ]
    },
    {
      "cell_type": "code",
      "source": [
        "total = 0\n",
        "for number in range(2, 101, 2):\n",
        "    total += number\n",
        "print(total)\n",
        "\n",
        "\n",
        "total2 = 0\n",
        "for number in range(1, 101):\n",
        "    if number % 2 == 0:\n",
        "        total2 += number\n",
        "print(total2)"
      ],
      "metadata": {
        "id": "xFTloATUoNW6"
      },
      "execution_count": null,
      "outputs": []
    },
    {
      "cell_type": "code",
      "execution_count": null,
      "metadata": {
        "id": "ANl1NGbvffJu"
      },
      "outputs": [],
      "source": [
        ""
      ]
    },
    {
      "cell_type": "markdown",
      "metadata": {
        "id": "13mUu7SrffJu"
      },
      "source": [
        "# Function"
      ]
    },
    {
      "cell_type": "code",
      "execution_count": null,
      "metadata": {
        "id": "0x857H1vffJu",
        "outputId": "4ba0be2a-49d4-4d33-aa2d-bd57fdbbcadd"
      },
      "outputs": [
        {
          "name": "stdout",
          "output_type": "stream",
          "text": [
            "Red\n",
            "Green\n",
            "Blue\n"
          ]
        }
      ],
      "source": [
        "#Defining functions\n",
        "def my_function():\n",
        "    print(\"Red\")\n",
        "    print(\"Green\")\n",
        "    print(\"Blue\")\n",
        "\n",
        "#Calling functions\n",
        "my_function()"
      ]
    },
    {
      "cell_type": "code",
      "source": [
        "def my_function_with_name(name): #name we call \"Parameter\"\n",
        "    print(f\"Hello {name}\")\n",
        "    print(f\"Bye {name}\")\n",
        "\n",
        "my_function_with_name(\"Book\") #Book we call \"Argument\" (actual value of the data)"
      ],
      "metadata": {
        "colab": {
          "base_uri": "https://localhost:8080/"
        },
        "id": "c8mB7ptLoT7x",
        "outputId": "710ad917-c2f9-48ce-b515-51a52c55f180"
      },
      "execution_count": null,
      "outputs": [
        {
          "output_type": "stream",
          "name": "stdout",
          "text": [
            "Hello Book\n",
            "Bye Book\n"
          ]
        }
      ]
    },
    {
      "cell_type": "code",
      "execution_count": null,
      "metadata": {
        "id": "L5SIZFXWffJu",
        "outputId": "93cbba93-dc44-4085-e5a3-dc9f168348bb"
      },
      "outputs": [
        {
          "name": "stdout",
          "output_type": "stream",
          "text": [
            "Hello Book\n",
            "Location BKK\n"
          ]
        }
      ],
      "source": [
        "def my_function_with_many(name, city):\n",
        "    print(f\"Hello {name}\")\n",
        "    print(f\"Location {city}\")\n",
        "\n",
        "\n",
        "my_function_with_many(\"Book\", \"BKK\")"
      ]
    },
    {
      "cell_type": "code",
      "source": [
        "def my_function_with_many(name, city):\n",
        "    print(f\"Hello {name}\")\n",
        "    print(f\"Location {city}\")\n",
        "\n",
        "\n",
        "my_function_with_many(\"BKK\", \"Book\")"
      ],
      "metadata": {
        "colab": {
          "base_uri": "https://localhost:8080/"
        },
        "id": "w-LDBCJqpTKs",
        "outputId": "85c499ff-208f-4de7-8527-82ac8f2ec3b3"
      },
      "execution_count": null,
      "outputs": [
        {
          "output_type": "stream",
          "name": "stdout",
          "text": [
            "Hello BKK\n",
            "Location Book\n"
          ]
        }
      ]
    },
    {
      "cell_type": "code",
      "execution_count": null,
      "metadata": {
        "id": "c1zNSo33ffJv",
        "outputId": "356070a2-cced-40a2-86bd-2232cc5ae4a7"
      },
      "outputs": [
        {
          "name": "stdout",
          "output_type": "stream",
          "text": [
            "Hello Book\n",
            "Location BKK\n"
          ]
        }
      ],
      "source": [
        "def my_function_with_many(name, city):\n",
        "    print(f\"Hello {name}\")\n",
        "    print(f\"Location {city}\")\n",
        "\n",
        "\n",
        "my_function_with_many(city=\"BKK\", name=\"Book\")"
      ]
    },
    {
      "cell_type": "code",
      "source": [
        ""
      ],
      "metadata": {
        "id": "wxoSL69GokrQ"
      },
      "execution_count": null,
      "outputs": []
    },
    {
      "cell_type": "markdown",
      "metadata": {
        "id": "M3QPZ0QLffJw"
      },
      "source": [
        "# While Loop"
      ]
    },
    {
      "cell_type": "code",
      "execution_count": null,
      "metadata": {
        "id": "nrdC6aQNffJw"
      },
      "outputs": [],
      "source": [
        "#For loob >> for item in the list or range\n",
        "#While loob >> do something repeatedly (if in the condition)"
      ]
    },
    {
      "cell_type": "code",
      "execution_count": null,
      "metadata": {
        "id": "4ytVp8RFffJw",
        "outputId": "c7873645-d2c0-4a8d-8cac-ba376f3652ce"
      },
      "outputs": [
        {
          "name": "stdout",
          "output_type": "stream",
          "text": [
            "correcting...\n",
            "7\n",
            "correcting...\n",
            "6\n",
            "correcting...\n",
            "5\n",
            "correcting...\n",
            "4\n",
            "correcting...\n",
            "3\n",
            "correcting...\n",
            "2\n",
            "correcting...\n",
            "1\n",
            "correcting...\n",
            "0\n"
          ]
        }
      ],
      "source": [
        "offset = 8\n",
        "\n",
        "while offset != 0:\n",
        "    print(\"correcting...\")\n",
        "    offset = offset - 1\n",
        "    print(offset)"
      ]
    },
    {
      "cell_type": "code",
      "execution_count": null,
      "metadata": {
        "id": "U7R_mLUfffJw",
        "outputId": "183e08cb-d8a1-4aef-d2b1-53b340046af6"
      },
      "outputs": [
        {
          "name": "stdout",
          "output_type": "stream",
          "text": [
            "correcting...\n",
            "-5\n",
            "correcting...\n",
            "-4\n",
            "correcting...\n",
            "-3\n",
            "correcting...\n",
            "-2\n",
            "correcting...\n",
            "-1\n",
            "correcting...\n",
            "0\n"
          ]
        }
      ],
      "source": [
        "offset = -6\n",
        "\n",
        "while offset != 0 :\n",
        "    \n",
        "    print(\"correcting...\")\n",
        "    if offset > 0:\n",
        "        offset = offset - 1\n",
        "    else:\n",
        "        offset = offset + 1\n",
        "    print(offset)"
      ]
    },
    {
      "cell_type": "code",
      "execution_count": null,
      "metadata": {
        "id": "g5hq9xGIffJ4"
      },
      "outputs": [],
      "source": [
        ""
      ]
    },
    {
      "cell_type": "markdown",
      "metadata": {
        "id": "qvqxYp1BffJ5"
      },
      "source": [
        "# Dictionary"
      ]
    },
    {
      "cell_type": "code",
      "execution_count": null,
      "metadata": {
        "id": "vjlm2-E5ffJ5",
        "outputId": "6da1601e-6fbe-451d-c2cb-4f3b3ebfbaed"
      },
      "outputs": [
        {
          "data": {
            "text/plain": [
              "'Test A'"
            ]
          },
          "execution_count": 2,
          "metadata": {},
          "output_type": "execute_result"
        }
      ],
      "source": [
        "programming_dictionary = {\n",
        "    \"A\": \"Test A\",\n",
        "    \"B\": \"Test B\",\n",
        "    \"C\": \"Test C\"\n",
        "}\n",
        "\n",
        "programming_dictionary[\"A\"]"
      ]
    },
    {
      "cell_type": "code",
      "execution_count": null,
      "metadata": {
        "id": "eMgDiNMgffJ5",
        "outputId": "8d7bd63d-d1e6-40dc-de6c-37fdab82a6ab"
      },
      "outputs": [
        {
          "data": {
            "text/plain": [
              "{'A': 'Test A', 'B': 'Test B', 'C': 'Test C', 'D': 'Test D'}"
            ]
          },
          "execution_count": 3,
          "metadata": {},
          "output_type": "execute_result"
        }
      ],
      "source": [
        "programming_dictionary = {\n",
        "    \"A\": \"Test A\",\n",
        "    \"B\": \"Test B\",\n",
        "    \"C\": \"Test C\"\n",
        "}\n",
        "\n",
        "programming_dictionary[\"D\"] = \"Test D\"\n",
        "programming_dictionary"
      ]
    },
    {
      "cell_type": "code",
      "execution_count": null,
      "metadata": {
        "id": "PCMsfCrqffJ5",
        "outputId": "35e9cfad-cf4d-4e5c-898e-50271a42ead0"
      },
      "outputs": [
        {
          "name": "stdout",
          "output_type": "stream",
          "text": [
            "A\n",
            "Test A\n",
            "B\n",
            "Test B\n",
            "C\n",
            "Test C\n",
            "D\n",
            "Test D\n"
          ]
        }
      ],
      "source": [
        "for i in programming_dictionary:\n",
        "    print(i)\n",
        "    print(programming_dictionary[i])"
      ]
    },
    {
      "cell_type": "code",
      "execution_count": null,
      "metadata": {
        "id": "XIphfJHeffJ7"
      },
      "outputs": [],
      "source": [
        ""
      ]
    },
    {
      "cell_type": "markdown",
      "metadata": {
        "id": "UKAItJxQffJ7"
      },
      "source": [
        "# Excercise"
      ]
    },
    {
      "cell_type": "code",
      "execution_count": null,
      "metadata": {
        "id": "TnBUbCQCffJ8",
        "outputId": "c0fea075-57e6-4af2-be59-1ff05ef29b19"
      },
      "outputs": [
        {
          "name": "stdout",
          "output_type": "stream",
          "text": [
            "{'Kevin': 'B', 'Prayut': 'D', 'Peter': 'C', 'David': 'A'}\n"
          ]
        }
      ],
      "source": [
        "student_scores = {\n",
        "    \"Kevin\": 73,\n",
        "    \"Prayut\": 42,\n",
        "    \"Peter\": 67,\n",
        "    \"David\": 89\n",
        "}\n",
        "\n",
        "student_grades = {}\n",
        "\n",
        "for student in student_scores:\n",
        "    score = student_scores[student]\n",
        "    if score > 80:\n",
        "        student_grades[student] = \"A\"\n",
        "    elif score > 70:\n",
        "        student_grades[student] = \"B\"\n",
        "    elif score > 60:\n",
        "        student_grades[student] = \"C\"\n",
        "    else:\n",
        "        student_grades[student] = \"D\"\n",
        "print(student_grades)"
      ]
    }
  ]
}